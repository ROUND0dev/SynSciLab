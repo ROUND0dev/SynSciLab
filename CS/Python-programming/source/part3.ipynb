{
  "nbformat": 4,
  "nbformat_minor": 0,
  "metadata": {
    "colab": {
      "provenance": []
    },
    "kernelspec": {
      "name": "python3",
      "display_name": "Python 3"
    },
    "language_info": {
      "name": "python"
    }
  },
  "cells": [
    {
      "cell_type": "code",
      "execution_count": null,
      "metadata": {
        "id": "7Fjb2fN9E8yA"
      },
      "outputs": [],
      "source": [
        "import math"
      ]
    },
    {
      "cell_type": "code",
      "source": [
        "x = 10\n",
        "x = x + 3\n",
        "x = x * x\n",
        "print(x)"
      ],
      "metadata": {
        "colab": {
          "base_uri": "https://localhost:8080/"
        },
        "id": "ihLPuRg5FtUU",
        "outputId": "ffff7d4b-183f-4307-afe2-31fc9b19a706"
      },
      "execution_count": null,
      "outputs": [
        {
          "output_type": "stream",
          "name": "stdout",
          "text": [
            "169\n"
          ]
        }
      ]
    },
    {
      "cell_type": "code",
      "source": [
        "x = 70\n",
        "if x >= 60:\n",
        "  print(\"OK\")"
      ],
      "metadata": {
        "colab": {
          "base_uri": "https://localhost:8080/"
        },
        "id": "3oUKrLHjHLQI",
        "outputId": "db46b6dd-acf7-46bc-999d-927cd641f80d"
      },
      "execution_count": null,
      "outputs": [
        {
          "output_type": "stream",
          "name": "stdout",
          "text": [
            "OK\n"
          ]
        }
      ]
    },
    {
      "cell_type": "code",
      "source": [
        "y = 30\n",
        "if y >= 60:\n",
        "  print(\"OK\")"
      ],
      "metadata": {
        "id": "qp5buC7xHXwx"
      },
      "execution_count": null,
      "outputs": []
    },
    {
      "cell_type": "code",
      "source": [
        "x = 40\n",
        "if x >= 60:\n",
        "  print(\"OK\")\n",
        "else:\n",
        "  print(\"NG\")"
      ],
      "metadata": {
        "colab": {
          "base_uri": "https://localhost:8080/"
        },
        "id": "XFS8PpkuHb7C",
        "outputId": "0ed3cef6-70ad-4c4f-966a-d3c6df075a57"
      },
      "execution_count": null,
      "outputs": [
        {
          "output_type": "stream",
          "name": "stdout",
          "text": [
            "NG\n"
          ]
        }
      ]
    },
    {
      "cell_type": "code",
      "source": [
        "y = 60\n",
        "if y >= 60:\n",
        "  print(\"OK\")\n",
        "else:\n",
        "  print(\"NG\")"
      ],
      "metadata": {
        "colab": {
          "base_uri": "https://localhost:8080/"
        },
        "id": "IOrFMhChlGQf",
        "outputId": "91d9309c-4165-483b-f435-b2185901e06f"
      },
      "execution_count": null,
      "outputs": [
        {
          "output_type": "stream",
          "name": "stdout",
          "text": [
            "OK\n"
          ]
        }
      ]
    },
    {
      "cell_type": "code",
      "source": [
        "a = 10\n",
        "b = 3\n",
        "c = -3"
      ],
      "metadata": {
        "id": "Zb3nfrd-lOUh"
      },
      "execution_count": null,
      "outputs": []
    },
    {
      "cell_type": "code",
      "source": [
        "a > b"
      ],
      "metadata": {
        "colab": {
          "base_uri": "https://localhost:8080/"
        },
        "id": "S4vBXc334pi8",
        "outputId": "23867719-aa99-4559-c6e2-c2b43af8a884"
      },
      "execution_count": null,
      "outputs": [
        {
          "output_type": "execute_result",
          "data": {
            "text/plain": [
              "True"
            ]
          },
          "metadata": {},
          "execution_count": 3
        }
      ]
    },
    {
      "cell_type": "code",
      "source": [
        "a > 10"
      ],
      "metadata": {
        "colab": {
          "base_uri": "https://localhost:8080/"
        },
        "id": "IDPouvWh4twl",
        "outputId": "a1b96515-c06c-493d-f274-4621059ff0bf"
      },
      "execution_count": null,
      "outputs": [
        {
          "output_type": "execute_result",
          "data": {
            "text/plain": [
              "False"
            ]
          },
          "metadata": {},
          "execution_count": 4
        }
      ]
    },
    {
      "cell_type": "code",
      "source": [
        "a == b"
      ],
      "metadata": {
        "colab": {
          "base_uri": "https://localhost:8080/"
        },
        "id": "B8BX-Axu43t8",
        "outputId": "a76b6c9f-39ce-4dcd-cce2-d10cb5661bc3"
      },
      "execution_count": null,
      "outputs": [
        {
          "output_type": "execute_result",
          "data": {
            "text/plain": [
              "False"
            ]
          },
          "metadata": {},
          "execution_count": 5
        }
      ]
    },
    {
      "cell_type": "code",
      "source": [
        "b != c"
      ],
      "metadata": {
        "colab": {
          "base_uri": "https://localhost:8080/"
        },
        "id": "2tY-sKGc472G",
        "outputId": "729c96af-36fa-4c12-f142-db12ca9324f5"
      },
      "execution_count": null,
      "outputs": [
        {
          "output_type": "execute_result",
          "data": {
            "text/plain": [
              "True"
            ]
          },
          "metadata": {},
          "execution_count": 6
        }
      ]
    },
    {
      "cell_type": "code",
      "source": [
        "b == abs(c)"
      ],
      "metadata": {
        "colab": {
          "base_uri": "https://localhost:8080/"
        },
        "id": "bwnN9qlq5A9r",
        "outputId": "422fe974-84d4-49d9-a5b9-7dd6d1ccb4c3"
      },
      "execution_count": null,
      "outputs": [
        {
          "output_type": "execute_result",
          "data": {
            "text/plain": [
              "True"
            ]
          },
          "metadata": {},
          "execution_count": 7
        }
      ]
    },
    {
      "cell_type": "code",
      "source": [
        "b >= abs(c)"
      ],
      "metadata": {
        "colab": {
          "base_uri": "https://localhost:8080/"
        },
        "id": "rP3IO6aP5IMA",
        "outputId": "36f42ad3-25ab-47bb-b587-1727b6b76762"
      },
      "execution_count": null,
      "outputs": [
        {
          "output_type": "execute_result",
          "data": {
            "text/plain": [
              "True"
            ]
          },
          "metadata": {},
          "execution_count": 8
        }
      ]
    },
    {
      "cell_type": "code",
      "source": [
        "\"A\" > \"a\""
      ],
      "metadata": {
        "colab": {
          "base_uri": "https://localhost:8080/"
        },
        "id": "flSo3fve5L2m",
        "outputId": "f83fa60c-c13d-4536-cc0e-d28426d2222c"
      },
      "execution_count": null,
      "outputs": [
        {
          "output_type": "execute_result",
          "data": {
            "text/plain": [
              "False"
            ]
          },
          "metadata": {},
          "execution_count": 10
        }
      ]
    },
    {
      "cell_type": "code",
      "source": [
        "\"A\" < \"a\""
      ],
      "metadata": {
        "colab": {
          "base_uri": "https://localhost:8080/"
        },
        "id": "_OGk_MIr6aML",
        "outputId": "fd70ec9f-2913-491d-b669-9b25d0129ef6"
      },
      "execution_count": null,
      "outputs": [
        {
          "output_type": "execute_result",
          "data": {
            "text/plain": [
              "True"
            ]
          },
          "metadata": {},
          "execution_count": 11
        }
      ]
    },
    {
      "cell_type": "code",
      "source": [
        "\"ac\" > \"ab\""
      ],
      "metadata": {
        "colab": {
          "base_uri": "https://localhost:8080/"
        },
        "id": "CZdfsD0Y6gD_",
        "outputId": "cef72137-1e7b-4ec6-8517-72038af250be"
      },
      "execution_count": null,
      "outputs": [
        {
          "output_type": "execute_result",
          "data": {
            "text/plain": [
              "True"
            ]
          },
          "metadata": {},
          "execution_count": 17
        }
      ]
    },
    {
      "cell_type": "code",
      "source": [
        "\"a\" < \"z\""
      ],
      "metadata": {
        "colab": {
          "base_uri": "https://localhost:8080/"
        },
        "id": "E_KEYUvS6o-f",
        "outputId": "6ffd9fda-cae8-499d-f361-d6ddae29f56f"
      },
      "execution_count": null,
      "outputs": [
        {
          "output_type": "execute_result",
          "data": {
            "text/plain": [
              "True"
            ]
          },
          "metadata": {},
          "execution_count": 18
        }
      ]
    },
    {
      "cell_type": "code",
      "source": [
        "\"This\" < \"this\""
      ],
      "metadata": {
        "colab": {
          "base_uri": "https://localhost:8080/"
        },
        "id": "OX5yqW-B6r2z",
        "outputId": "9a687aa9-8887-4411-ec48-283f41b35f4b"
      },
      "execution_count": null,
      "outputs": [
        {
          "output_type": "execute_result",
          "data": {
            "text/plain": [
              "True"
            ]
          },
          "metadata": {},
          "execution_count": 19
        }
      ]
    },
    {
      "cell_type": "code",
      "source": [
        "a = 20\n",
        "if a > 10:\n",
        "    a = a * 2\n",
        "    print(a)\n",
        "print(a)"
      ],
      "metadata": {
        "colab": {
          "base_uri": "https://localhost:8080/"
        },
        "id": "Hsohma8X76oN",
        "outputId": "2559b404-33de-4fc2-9ea1-701c52ef7711"
      },
      "execution_count": null,
      "outputs": [
        {
          "output_type": "stream",
          "name": "stdout",
          "text": [
            "40\n",
            "40\n"
          ]
        }
      ]
    },
    {
      "cell_type": "code",
      "source": [
        "x = 60\n",
        "if x >= 60:\n",
        "    print(\"OK\")\n",
        "else:\n",
        "    print(\"NG\")"
      ],
      "metadata": {
        "colab": {
          "base_uri": "https://localhost:8080/"
        },
        "id": "qvQvequg9hvL",
        "outputId": "6b435b51-740f-474f-f13f-ab2758f7d315"
      },
      "execution_count": null,
      "outputs": [
        {
          "output_type": "stream",
          "name": "stdout",
          "text": [
            "OK\n"
          ]
        }
      ]
    },
    {
      "cell_type": "code",
      "source": [
        "string1 = \"1234\"\n",
        "string2 = \"123a321\"\n",
        "if string1.isdecimal():\n",
        "  print(string1,\"is a number.\")\n",
        "else:\n",
        "  print(string1,\"is not a number.\")"
      ],
      "metadata": {
        "colab": {
          "base_uri": "https://localhost:8080/"
        },
        "id": "8hMFJuPj_YjD",
        "outputId": "cb7b916b-8dea-4d91-bbbb-dc9678668eb0"
      },
      "execution_count": null,
      "outputs": [
        {
          "output_type": "stream",
          "name": "stdout",
          "text": [
            "1234 is a number.\n"
          ]
        }
      ]
    },
    {
      "cell_type": "code",
      "source": [
        "string1 = \"1234\"\n",
        "string2 = \"123a321\"\n",
        "if string2.isdecimal():\n",
        "  print(string2,\"is a number.\")\n",
        "else:\n",
        "  print(string2,\"is not a number.\")"
      ],
      "metadata": {
        "colab": {
          "base_uri": "https://localhost:8080/"
        },
        "id": "fIz_bBEAsIN5",
        "outputId": "04de2f92-6ee2-457d-a20a-b76624296588"
      },
      "execution_count": null,
      "outputs": [
        {
          "output_type": "stream",
          "name": "stdout",
          "text": [
            "123a321 is not a number.\n"
          ]
        }
      ]
    },
    {
      "cell_type": "code",
      "source": [
        "#1(整数) -> true\n",
        "#0 -> false\n",
        "if 1:\n",
        "  print(\"OK\")\n",
        "else:\n",
        "  print(\"NG\")"
      ],
      "metadata": {
        "colab": {
          "base_uri": "https://localhost:8080/"
        },
        "id": "HvZ7tHB7BMP5",
        "outputId": "55248893-0146-4f3c-fb2f-f0c5715c0c7f"
      },
      "execution_count": null,
      "outputs": [
        {
          "output_type": "stream",
          "name": "stdout",
          "text": [
            "OK\n"
          ]
        }
      ]
    },
    {
      "cell_type": "code",
      "source": [
        "x = -5\n",
        "\n",
        "if x > 0:\n",
        "  x = x * 2\n",
        "elif x == 0:\n",
        "  x = x + 10\n",
        "elif x > -10:\n",
        "  x = x * (-5)\n",
        "else:\n",
        "  x = x * (-2)\n",
        "print(x)"
      ],
      "metadata": {
        "colab": {
          "base_uri": "https://localhost:8080/"
        },
        "id": "ciQyTxSzCn5K",
        "outputId": "1ab6ce20-0cb1-48b1-a60e-ba3c259d1d47"
      },
      "execution_count": null,
      "outputs": [
        {
          "output_type": "stream",
          "name": "stdout",
          "text": [
            "25\n"
          ]
        }
      ]
    },
    {
      "cell_type": "code",
      "source": [
        "x = 65\n",
        "y = 55\n",
        "z = 80\n",
        "\n",
        "if x >= 60:\n",
        "  if y >= 60:\n",
        "    if z >= 60:\n",
        "      print(\"OK\")\n",
        "    else:\n",
        "      print(\"NG(z)\")\n",
        "  else:\n",
        "    print(\"NG(y)\")\n",
        "else:\n",
        "  print(\"NG(x)\")"
      ],
      "metadata": {
        "colab": {
          "base_uri": "https://localhost:8080/"
        },
        "id": "TN0J_heZE5WR",
        "outputId": "294fdb93-66da-4c55-d8b8-6c85d58413ff"
      },
      "execution_count": null,
      "outputs": [
        {
          "output_type": "stream",
          "name": "stdout",
          "text": [
            "NG(y)\n"
          ]
        }
      ]
    },
    {
      "cell_type": "code",
      "source": [
        "if x >= 60 and y >= 60 and z >= 60:\n",
        "  print(\"OK\")\n",
        "else:\n",
        "  print(\"NG\")"
      ],
      "metadata": {
        "colab": {
          "base_uri": "https://localhost:8080/"
        },
        "id": "pOIhqxzhGS12",
        "outputId": "6a96e4f9-984e-42e1-a1a1-b8797fab1c4b"
      },
      "execution_count": null,
      "outputs": [
        {
          "output_type": "stream",
          "name": "stdout",
          "text": [
            "NG\n"
          ]
        }
      ]
    },
    {
      "cell_type": "code",
      "source": [],
      "metadata": {
        "id": "z5g-SPV1Gwlv"
      },
      "execution_count": null,
      "outputs": []
    }
  ]
}