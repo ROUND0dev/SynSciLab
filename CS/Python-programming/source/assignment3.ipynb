{
  "nbformat": 4,
  "nbformat_minor": 0,
  "metadata": {
    "colab": {
      "provenance": []
    },
    "kernelspec": {
      "name": "python3",
      "display_name": "Python 3"
    },
    "language_info": {
      "name": "python"
    }
  },
  "cells": [
    {
      "cell_type": "code",
      "execution_count": 5,
      "metadata": {
        "colab": {
          "base_uri": "https://localhost:8080/",
          "height": 106
        },
        "id": "C6oit-iEIln7",
        "outputId": "aaa6b516-ebeb-4cca-aa4f-3996fad709d8"
      },
      "outputs": [
        {
          "output_type": "error",
          "ename": "IndentationError",
          "evalue": "expected an indented block after 'if' statement on line 5 (<ipython-input-5-b95e5e71d42d>, line 8)",
          "traceback": [
            "\u001b[0;36m  File \u001b[0;32m\"<ipython-input-5-b95e5e71d42d>\"\u001b[0;36m, line \u001b[0;32m8\u001b[0m\n\u001b[0;31m    elif n % 3 == 0:\u001b[0m\n\u001b[0m    ^\u001b[0m\n\u001b[0;31mIndentationError\u001b[0m\u001b[0;31m:\u001b[0m expected an indented block after 'if' statement on line 5\n"
          ]
        }
      ],
      "source": [
        "# nが3の倍数である時に”Fizz”、5の倍数である時に”Buzz”、15の倍数である時に”FizzBuzz”が出力されるようなプログラムを作成してください。\n",
        "\n",
        "n = int(input(\"nを入力してください：\"))\n",
        "\n",
        "if n % 15 == 0:\n",
        "  # nが15の倍数である時の処理を書く\n",
        "\n",
        "elif n % 3 == 0:\n",
        "  # nが3の倍数である時の処理を書く\n",
        "\n",
        "elif n % 5 == 0:\n",
        "  # nが5の倍数である時の処理を書く\n"
      ]
    },
    {
      "cell_type": "code",
      "source": [],
      "metadata": {
        "id": "gRMzHojVJVPJ"
      },
      "execution_count": null,
      "outputs": []
    }
  ]
}